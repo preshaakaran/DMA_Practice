{
 "cells": [
  {
   "cell_type": "code",
   "execution_count": 1,
   "id": "bc3f4546-164f-4272-9cae-de654417b326",
   "metadata": {},
   "outputs": [
    {
     "name": "stdout",
     "output_type": "stream",
     "text": [
      "   name  maths  english  hindi\n",
      "0     A   89.0     56.0     19\n",
      "1     B   56.0     65.0     49\n",
      "2     C   45.0     99.0     79\n",
      "3     D   89.0     65.0     89\n",
      "4     E    NaN     23.0     59\n",
      "5     F   56.0     56.0     23\n",
      "6     G   98.0      NaN     31\n",
      "7     H   56.0     23.0     98\n",
      "8     I   89.0     56.0     64\n",
      "9     J   97.0     65.0     98\n",
      "10    K   99.0     32.0     65\n",
      "11    L   56.0     65.0     49\n"
     ]
    }
   ],
   "source": [
    "import pandas as pd\n",
    "import numpy as np\n",
    "df=pd.read_csv(\"DMA_exp_2.csv\")\n",
    "print(df)"
   ]
  },
  {
   "cell_type": "code",
   "execution_count": 2,
   "id": "b796309b-b2f9-4e35-a915-1cf81861e1b1",
   "metadata": {},
   "outputs": [
    {
     "name": "stdout",
     "output_type": "stream",
     "text": [
      "name       0\n",
      "maths      1\n",
      "english    1\n",
      "hindi      0\n",
      "dtype: int64\n"
     ]
    }
   ],
   "source": [
    "missing=df.isnull().sum()\n",
    "print(missing)"
   ]
  },
  {
   "cell_type": "code",
   "execution_count": 3,
   "id": "e8172ee3-4ad7-4ce7-a8eb-8303f1992880",
   "metadata": {},
   "outputs": [
    {
     "name": "stdout",
     "output_type": "stream",
     "text": [
      "   name  maths  english  hindi\n",
      "0     A   89.0     56.0     19\n",
      "1     B   56.0     65.0     49\n",
      "2     C   45.0     99.0     79\n",
      "3     D   89.0     65.0     89\n",
      "5     F   56.0     56.0     23\n",
      "7     H   56.0     23.0     98\n",
      "8     I   89.0     56.0     64\n",
      "9     J   97.0     65.0     98\n",
      "10    K   99.0     32.0     65\n",
      "11    L   56.0     65.0     49\n",
      "   name  maths  english  hindi\n",
      "0     A   89.0     56.0     19\n",
      "1     B   56.0     65.0     49\n",
      "2     C   45.0     99.0     79\n",
      "3     D   89.0     65.0     89\n",
      "4     E    NaN     23.0     59\n",
      "5     F   56.0     56.0     23\n",
      "6     G   98.0      NaN     31\n",
      "7     H   56.0     23.0     98\n",
      "8     I   89.0     56.0     64\n",
      "9     J   97.0     65.0     98\n",
      "10    K   99.0     32.0     65\n",
      "11    L   56.0     65.0     49\n"
     ]
    }
   ],
   "source": [
    "data_clean=df.dropna()\n",
    "data_unique=df.drop_duplicates()\n",
    "print(data_clean)\n",
    "print(data_unique)\n"
   ]
  },
  {
   "cell_type": "code",
   "execution_count": 7,
   "id": "f3908816-14b9-41e5-b93e-c19b8d752f71",
   "metadata": {},
   "outputs": [
    {
     "name": "stdout",
     "output_type": "stream",
     "text": [
      "(12, 4)\n",
      "(12, 4)\n"
     ]
    }
   ],
   "source": [
    "print(df.shape)\n",
    "print(data_unique.shape)\n"
   ]
  },
  {
   "cell_type": "code",
   "execution_count": 10,
   "id": "119e226f-f224-4d89-a22e-e94cdd2a32dd",
   "metadata": {},
   "outputs": [],
   "source": [
    "data_clean.to_csv(\"New_exp2.csv\",index=False)"
   ]
  },
  {
   "cell_type": "code",
   "execution_count": null,
   "id": "ddf28f2c-e628-4a9a-8c20-7436c8512ad4",
   "metadata": {},
   "outputs": [],
   "source": []
  }
 ],
 "metadata": {
  "kernelspec": {
   "display_name": "Python 3 (ipykernel)",
   "language": "python",
   "name": "python3"
  },
  "language_info": {
   "codemirror_mode": {
    "name": "ipython",
    "version": 3
   },
   "file_extension": ".py",
   "mimetype": "text/x-python",
   "name": "python",
   "nbconvert_exporter": "python",
   "pygments_lexer": "ipython3",
   "version": "3.11.2"
  }
 },
 "nbformat": 4,
 "nbformat_minor": 5
}
