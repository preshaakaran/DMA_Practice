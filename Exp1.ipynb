{
 "cells": [
  {
   "cell_type": "code",
   "execution_count": 2,
   "id": "9911d495-a1d2-42d1-b067-ca227542b15d",
   "metadata": {},
   "outputs": [],
   "source": [
    "import numpy as np\n",
    "import pandas as pd\n",
    "from scipy import stats"
   ]
  },
  {
   "cell_type": "code",
   "execution_count": 3,
   "id": "677bea4f-40e4-4fd8-aabb-f60797b4bd06",
   "metadata": {},
   "outputs": [
    {
     "name": "stdout",
     "output_type": "stream",
     "text": [
      "     Age  Gender  Salary\n",
      "0     32    Male   90000\n",
      "1     28  Female   65000\n",
      "2     45    Male  150000\n",
      "3     36  Female   60000\n",
      "4     52    Male  200000\n",
      "..   ...     ...     ...\n",
      "167   46    Male  150000\n",
      "168   31  Female   50000\n",
      "169   34    Male  105000\n",
      "170   50  Female  180000\n",
      "171   29    Male   40000\n",
      "\n",
      "[172 rows x 3 columns]\n",
      "Index(['Age', 'Gender', 'Salary'], dtype='object')\n"
     ]
    }
   ],
   "source": [
    "df=pd.read_csv(\"Salary Data.csv\")\n",
    "print(df)\n",
    "print(df.columns)\n"
   ]
  },
  {
   "cell_type": "code",
   "execution_count": 4,
   "id": "f48d670f-b60a-4900-b137-c3996df320ec",
   "metadata": {},
   "outputs": [],
   "source": [
    "column=[\"Age\",\"Salary\"]"
   ]
  },
  {
   "cell_type": "code",
   "execution_count": 7,
   "id": "2eb407d8-8d75-420a-8157-4d196ba1a69a",
   "metadata": {},
   "outputs": [
    {
     "name": "stdout",
     "output_type": "stream",
     "text": [
      "Age\n",
      "<class 'numpy.int64'>\n",
      "Mean: 37.127906976744185\n",
      "Median: 36.0\n",
      "Mode: ModeResult(mode=29, count=11)\n",
      "Quartile: 30.75\n",
      "Quartile: 36.0\n",
      "Quartile: 43.0\n",
      "Std: 7.72386292019423\n",
      "Salary\n",
      "<class 'numpy.int64'>\n",
      "Mean: 96453.48837209302\n",
      "Median: 90000.0\n",
      "Mode: ModeResult(mode=40000, count=13)\n",
      "Quartile: 50000.0\n",
      "Quartile: 90000.0\n",
      "Quartile: 130000.0\n",
      "Std: 49473.191466467695\n"
     ]
    }
   ],
   "source": [
    "for i in column:\n",
    "    data_column=df[i]\n",
    "    print(i)\n",
    "    print(type(data_column[0])) \n",
    "    data_numeric=np.array(data_column)\n",
    "    mean=np.nanmean(data_numeric)\n",
    "    median=np.nanmedian(data_numeric)\n",
    "    mode=stats.mode(data_numeric)\n",
    "    quartile=np.nanpercentile(data_numeric,[25,50,75])\n",
    "    std=np.nanstd(data_numeric)\n",
    "\n",
    "    print(\"Mean:\",mean)\n",
    "    print(\"Median:\",median)\n",
    "    print(\"Mode:\",mode)\n",
    "    print(\"Quartile:\",quartile[0])\n",
    "    print(\"Quartile:\",quartile[1])\n",
    "    print(\"Quartile:\",quartile[2])\n",
    "    print(\"Std:\",std)"
   ]
  },
  {
   "cell_type": "code",
   "execution_count": null,
   "id": "d0063bba-620d-4393-9241-a8ff64eee7e3",
   "metadata": {},
   "outputs": [],
   "source": []
  }
 ],
 "metadata": {
  "kernelspec": {
   "display_name": "Python 3 (ipykernel)",
   "language": "python",
   "name": "python3"
  },
  "language_info": {
   "codemirror_mode": {
    "name": "ipython",
    "version": 3
   },
   "file_extension": ".py",
   "mimetype": "text/x-python",
   "name": "python",
   "nbconvert_exporter": "python",
   "pygments_lexer": "ipython3",
   "version": "3.11.2"
  }
 },
 "nbformat": 4,
 "nbformat_minor": 5
}
